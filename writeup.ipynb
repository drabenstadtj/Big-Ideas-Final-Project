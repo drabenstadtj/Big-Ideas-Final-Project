{
 "cells": [
  {
   "cell_type": "markdown",
   "id": "b8a8f8ed-bce0-4250-99f0-3c45e30de17a",
   "metadata": {},
   "source": [
<<<<<<< HEAD
    "# Pittsburgh's 'Best' Neighborhood by team Small Ideas"
=======
    "# Pittsburgh's 'Best' Neighborhood"
   ]
  },
  {
   "cell_type": "markdown",
   "id": "9c192e8a-2640-483a-a529-f6d52d967512",
   "metadata": {},
   "source": [
    "## Metrics:\n",
    "- Number of Parks\n",
    "- Number of Protected Bike Lanes\n",
    "- Number of Transit Stops"
>>>>>>> cc12c22d165ca344b99138209ee21fdaf8e9b812
   ]
  },
  {
   "cell_type": "markdown",
   "id": "b46e7b82-bd45-4d25-a52f-b9d5c7fab5e4",
   "metadata": {},
   "source": [
    "## Why"
   ]
  },
  {
   "cell_type": "markdown",
   "id": "a0fc602e",
   "metadata": {},
   "source": [
    "#### Public Transit Accessibility (Number of Bus Stops):\n",
    "\n",
    "- Public transit accessibility is a vital factor for many residents when choosing a neighborhood.\n",
    "- Number of bus stops indicates the extent of public transit coverage within the neighborhood.\n",
    "- More bus stops imply better access to transportation, which enhances mobility and reduces reliance on private vehicles.\n",
    "\n",
    "#### Active Transportation Infrastructure (Length of Bike Lanes):\n",
    "\n",
    "- Length of bike lanes reflects the neighborhood's commitment to promoting active transportation.\n",
    "- Bike lanes encourage cycling, which promotes physical activity, reduces traffic congestion, and decreases carbon emissions.\n",
    "- Well-connected bike lanes enhance connectivity within the neighborhood and to neighboring areas, contributing to overall livability.\n",
    "\n",
    "#### Quality of Outdoor Spaces (Amount of Parks):\n",
    "\n",
    "- Parks and green spaces are essential for recreation, relaxation, and community engagement.\n",
    "- The amount of parks within a neighborhood indicates its dedication to providing accessible outdoor amenities for residents.\n",
    "- Parks offer numerous health and social benefits, including stress reduction, improved mental well-being, and opportunities for social interaction."
   ]
  },
  {
   "cell_type": "markdown",
   "id": "df488e71-4212-46b2-a2df-cdfea32603d3",
   "metadata": {},
   "source": [
    "## Plan\n",
    "Our plan is to use the Neighborhoods dataset and a python script that verifies if a point's latitude and longitude fall inside of a given neighborhood. We will do this for every neighborhood. Using the count of each submetric (Parks, Protected Lanes, and Transit Stops) we will determine a score for each neighborhood and choose that neighborhood as our 'best' neighborhood. Using the counts for each metric for each neighborhood, we will normalize the counts into values which we will then we will composite into an overall score of 'bestness'.\n"
   ]
<<<<<<< HEAD
=======
  },
  {
   "cell_type": "markdown",
   "id": "1fcabcb0",
   "metadata": {},
   "source": [
    "## What We Did\n",
    "We first gathered the data into easily iteratable csv files.\n",
    "PRT stops had to be converted to csv files to be easily read in in the subsequent code."
   ]
  },
  {
   "cell_type": "code",
   "execution_count": null,
   "id": "981c2ce3",
   "metadata": {},
   "outputs": [],
   "source": [
    "import json\n",
    "import csv\n",
    "\n",
    "# Load GeoJSON data\n",
    "with open('data\\prt-stops.geojson', 'r') as f:\n",
    "    data = json.load(f)\n",
    "\n",
    "# Extract necessary information\n",
    "rows = []\n",
    "for index, feature in enumerate(data['features']):\n",
    "    latitude = feature['properties']['Latitude']\n",
    "    longitude = feature['properties']['Longitude']\n",
    "    rows.append([index, latitude, longitude])\n",
    "\n",
    "# Write to CSV\n",
    "with open('output.csv', 'w', newline='') as csvfile:\n",
    "    writer = csv.writer(csvfile)\n",
    "    writer.writerow(['Index', 'Latitude', 'Longitude'])\n",
    "    writer.writerows(rows)\n",
    "\n",
    "print(\"CSV file created successfully.\")"
   ]
  },
  {
   "cell_type": "markdown",
   "id": "a787045a",
   "metadata": {},
   "source": []
>>>>>>> cc12c22d165ca344b99138209ee21fdaf8e9b812
  }
 ],
 "metadata": {
  "kernelspec": {
   "display_name": "Python 3 (ipykernel)",
   "language": "python",
   "name": "python3"
  },
  "language_info": {
   "codemirror_mode": {
    "name": "ipython",
    "version": 3
   },
   "file_extension": ".py",
   "mimetype": "text/x-python",
   "name": "python",
   "nbconvert_exporter": "python",
   "pygments_lexer": "ipython3",
   "version": "3.11.5"
  }
 },
 "nbformat": 4,
 "nbformat_minor": 5
}
