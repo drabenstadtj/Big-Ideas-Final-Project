{
 "cells": [
  {
   "cell_type": "markdown",
   "id": "b8a8f8ed-bce0-4250-99f0-3c45e30de17a",
   "metadata": {},
   "source": [
    "# Pittsburgh's 'Best' Neighborhood"
   ]
  },
  {
   "cell_type": "markdown",
   "id": "9c192e8a-2640-483a-a529-f6d52d967512",
   "metadata": {},
   "source": [
    "## Metrics:\n",
    "- Number of Parks\n",
    "- Number of Protected Bike Lanes\n",
    "- Number of Transit Stops"
   ]
  },
  {
   "cell_type": "markdown",
   "id": "b46e7b82-bd45-4d25-a52f-b9d5c7fab5e4",
   "metadata": {},
   "source": [
    "## Why"
   ]
  },
  {
   "cell_type": "markdown",
   "id": "174c336e-91af-422e-af7e-5ca813ebd7ce",
   "metadata": {},
   "source": [
    "We chose to use the metrics of number of parks, protected bike lanes, and transit stops for our final project. Parks provide green spaces for recreational activities, relaxation, and socialization. Access to parks enhances residents' quality of life by offering opportunities for exercise, leisure, and connection with nature. Transit stops improve mobility and accessibility, allowing residents to easily access employment, education, healthcare, and entertainment options without relying heavily on private vehicles. Parks, protected bike lanes, and transit stops contribute to the overall safety of a neighborhood by increasing visibility and promoting active use of public spaces. Well-lit bike lanes and transit stops enhance safety for pedestrians and cyclists, while parks provide natural surveillance and opportunities for community policing.\n"
   ]
  },
  {
   "cell_type": "markdown",
   "id": "df488e71-4212-46b2-a2df-cdfea32603d3",
   "metadata": {},
   "source": [
    "## Plan\n",
    "Our plan is to use the Neighborhoods dataset and a python script that verifies if a point's latitude and longitude fall inside of a given neighborhood. We will do this for every neighborhood. Using the count of each submetric (Parks, Protected Lanes, and Transit Stops) we will determine a score for each neighborhood and choose that neighborhood as our 'best' neighborhood."
   ]
  },
  {
   "cell_type": "markdown",
   "id": "1fcabcb0",
   "metadata": {},
   "source": [
    "## What We Did\n",
    "We first gathered the data into easily iteratable csv files.\n",
    "PRT stops had to be converted to csv files to be easily read in in the subsequent code."
   ]
  },
  {
   "cell_type": "code",
   "execution_count": null,
   "id": "981c2ce3",
   "metadata": {},
   "outputs": [],
   "source": [
    "import json\n",
    "import csv\n",
    "\n",
    "# Load GeoJSON data\n",
    "with open('data\\prt-stops.geojson', 'r') as f:\n",
    "    data = json.load(f)\n",
    "\n",
    "# Extract necessary information\n",
    "rows = []\n",
    "for index, feature in enumerate(data['features']):\n",
    "    latitude = feature['properties']['Latitude']\n",
    "    longitude = feature['properties']['Longitude']\n",
    "    rows.append([index, latitude, longitude])\n",
    "\n",
    "# Write to CSV\n",
    "with open('output.csv', 'w', newline='') as csvfile:\n",
    "    writer = csv.writer(csvfile)\n",
    "    writer.writerow(['Index', 'Latitude', 'Longitude'])\n",
    "    writer.writerows(rows)\n",
    "\n",
    "print(\"CSV file created successfully.\")"
   ]
  },
  {
   "cell_type": "markdown",
   "id": "a787045a",
   "metadata": {},
   "source": []
  }
 ],
 "metadata": {
  "kernelspec": {
   "display_name": "Python 3 (ipykernel)",
   "language": "python",
   "name": "python3"
  },
  "language_info": {
   "codemirror_mode": {
    "name": "ipython",
    "version": 3
   },
   "file_extension": ".py",
   "mimetype": "text/x-python",
   "name": "python",
   "nbconvert_exporter": "python",
   "pygments_lexer": "ipython3",
   "version": "3.11.5"
  }
 },
 "nbformat": 4,
 "nbformat_minor": 5
}
