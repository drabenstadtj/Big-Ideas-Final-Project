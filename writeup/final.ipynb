{
 "cells": [
  {
   "cell_type": "markdown",
   "metadata": {},
   "source": [
    "# Pittsburgh's 'Best' Neighborhood by team Small Ideas"
   ]
  },
  {
   "cell_type": "markdown",
   "metadata": {},
   "source": [
    "## Why\n",
    "\n",
    "When deciding which metrics to pick, we thought it made sense to determine factors that affect our daily lives. Being students who live off campus, we spend time nearly everyday commuting to and from campus relying on buses and bike lanes. Additionally, we both enjoy spending time in parks around the city. Therefore, our chosen metrics—number of bus stops, length of bike lanes, and amount of parks—reflect our personal experiences and preferences, aiming to quantify the elements that enhance our daily lives.\n",
    "\n",
    "#### Public Transit Accessibility (Number of Bus Stops):\n",
    "\n",
    "- Public transit accessibility is a vital factor for many residents when choosing a neighborhood.\n",
    "- Number of bus stops indicates the extent of public transit coverage within the neighborhood.\n",
    "- More bus stops imply better access to transportation, which enhances mobility and reduces reliance on private vehicles.\n",
    "\n",
    "#### Active Transportation Infrastructure (Length of Bike Lanes):\n",
    "\n",
    "- Length of bike lanes reflects the neighborhood's commitment to promoting active transportation.\n",
    "- Bike lanes encourage cycling, which promotes physical activity, reduces traffic congestion, and decreases carbon emissions.\n",
    "- Well-connected bike lanes enhance connectivity within the neighborhood and to neighboring areas, contributing to overall livability.\n",
    "\n",
    "#### Quality of Outdoor Spaces (Amount of Parks):\n",
    "\n",
    "- Parks and green spaces are essential for recreation, relaxation, and community engagement.\n",
    "- The amount of parks within a neighborhood indicates its dedication to providing accessible outdoor amenities for residents.\n",
    "- Parks offer numerous health and social benefits, including stress reduction, improved mental well-being, and opportunities for social interaction."
   ]
  },
  {
   "cell_type": "markdown",
   "id": "10441181",
   "metadata": {},
   "source": [
    "## Plan\n",
    "Our plan is to use a dataset we found that contains data detailing the location and bounds of each neighborhood and a python script that verifies if a point's latitude and longitude fall inside of a given neighborhood. We will do this for every neighborhood. Using the count of each submetric (Parks, Protected Lanes, and Transit Stops) we will determine a score for each neighborhood and choose that neighborhood as our 'best' neighborhood. Using the counts for each metric for each neighborhood, we will normalize the counts into values which we will then we will composite into an overall score of 'bestness'.\n",
    "\n",
    "##### Neighborhoods:\n",
    "![Neighborhoods](image.png)"
   ]
  },
  {
   "cell_type": "markdown",
   "id": "d6ed2925",
   "metadata": {},
   "source": [
    "## Process"
   ]
  },
  {
   "cell_type": "markdown",
   "id": "0e9b95aa",
   "metadata": {},
   "source": [
    "#### Determining if a point falls within a neighborhood:\n",
    "To determine if a point falls within a neighborhood, we first create a list of shapely polygons containing location data for each neighborhood. We keep track of the names of each neighborhood by creating another list of names. Once we have a list of polygons we have a function that accepts a coordinate in the form of latitude and longitude. The function iterates through each neighborhood and uses shapely.polygon.contains() to determine if the point falls within the neighborhood polygon. If the point is within the neighborhood it returns the name of the neighborhood."
   ]
  },
  {
   "cell_type": "code",
   "execution_count": null,
   "id": "5bcb498c",
   "metadata": {},
   "outputs": [],
   "source": [
    "from shapely.geometry import shape, Point\n",
    "\n",
    "# Load GeoJSON data for neighborhoods\n",
    "with open('neighborhoods.geojson') as f:\n",
    "    geojson_data = json.load(f)\n",
    "\n",
    "# Extract neighborhood polygons\n",
    "polygons = []\n",
    "hoods = []\n",
    "for feature in geojson_data['features']:\n",
    "    polygon = shape(feature['geometry'])\n",
    "    polygons.append(polygon)\n",
    "    hoods.append(feature['properties']['hood'])\n",
    "\n",
    "# Define a function to check if a point is within any polygon\n",
    "def is_point_within_polygon(lat, lon):\n",
    "    point = Point(lon, lat)\n",
    "    for i, polygon in enumerate(polygons):\n",
    "        if polygon.contains(point):\n",
    "            return hoods[i]\n",
    "    return None"
   ]
  },
  {
   "cell_type": "markdown",
   "id": "42e4e51b",
   "metadata": {},
   "source": [
    "#### Generating a Count for each Neighborhood and Metric\n",
    "After creating our is_point_within_polygon() method, we wrote code to create a count for each neighborhood and each metric. Data is loaded from the dataset CSV and added to a list containing points in the form of (latitude, longitude). We also create a dictionary to store the name and counts for each neighborhood. Once a list of points is created we iterate through the list of points and run the is_point_within_polygon() method on each, if the point is found to be in a neighborhood it takes the neighborhood name and either increments the count or initializes the neighborhood in the dictionary. We used this code for our bus stops and parks metric."
   ]
  },
  {
   "cell_type": "code",
   "execution_count": null,
   "id": "657ec355",
   "metadata": {},
   "outputs": [],
   "source": [
    "# Read the CSV file containing latitude and longitude for parks\n",
    "parks_data = []\n",
    "with open('data\\city-parks.csv', 'r') as file:\n",
    "    next(file)  # Skip header\n",
    "    for line in file:\n",
    "        parts = line.strip().split(',')\n",
    "        lat, lon = map(float, parts[-2:])\n",
    "        parks_data.append((lat, lon))\n",
    "\n",
    "# Create a dictionary to store parks count\n",
    "parks_results = {\"neighborhoods\": []}\n",
    "\n",
    "# Iterate through each park point\n",
    "for lat, lon in parks_data:\n",
    "    hood = is_point_within_polygon(lat, lon)\n",
    "    if hood is not None:\n",
    "        found = False\n",
    "        for entry in parks_results[\"neighborhoods\"]:\n",
    "            if entry[\"name\"] == hood:\n",
    "                entry[\"parks\"] += 1\n",
    "                found = True\n",
    "                break\n",
    "        if not found:\n",
    "            parks_results[\"neighborhoods\"].append({\"name\": hood, \"parks\": 1})"
   ]
  },
  {
   "cell_type": "markdown",
   "id": "81cbaffe",
   "metadata": {},
   "source": [
    "#### Determining a Metric For Bike Lanes\n",
    "Determining a metric for bike lanes was not as simple. The dataset we chose store bike lanes in geojson as pairs of points marking the beginning and end points of lines that create segments of a larger line, known as a MultiLineString in geojson. One way to use this data is to count how many of the beginning and end points fall within a neighborhood. After some thought we decided this information wouldnt be representative as lines with more curves would have more points thus scoring higher. Instead, we decided to create a metric for the length of bike lanes within a neighborhood. To do this, we created code that iterated through each bike lane feature in the dataset geojson. We then convert the feature into a shapely object and iterate through our neighborhoods checking if the bike lane intersects the neighborhood polygon. If it does intersect, generate the part that intersects as a new line then add its length to the corresponding neighborhoods bike lane length attribute.\n"
   ]
  },
  {
   "cell_type": "markdown",
   "id": "5656d344",
   "metadata": {},
   "source": [
    "![Curves](curves.png)"
   ]
  },
  {
   "cell_type": "code",
   "execution_count": null,
   "id": "c75a03c2",
   "metadata": {},
   "outputs": [],
   "source": [
    "# Load GeoJSON data for bikelanes\n",
    "with open('data/2019-bike-lanes.geojson') as f:\n",
    "    bikelanes_data = json.load(f)\n",
    "\n",
    "# Initialize a dictionary to store lane lengths\n",
    "bikelane_lengths = {hood_name: 0.0 for hood_name in hoods}\n",
    "\n",
    "# Iterate over each bike lane feature\n",
    "for feature in bikelanes_data['features']:\n",
    "    bikelane_geometry = shape(feature['geometry'])\n",
    "    # Iterate through each neighborhood\n",
    "    for hood_name, polygon in zip(hoods, polygons):\n",
    "        # Check if the bike lane intersects with the neighborhood polygon\n",
    "        if bikelane_geometry.intersects(polygon):\n",
    "            # Calculate the length of the intersection\n",
    "            intersection = bikelane_geometry.intersection(polygon)\n",
    "            bikelane_lengths[hood_name] += intersection.length\n",
    "\n",
    "# Update merged_results with bike lane lengths\n",
    "for entry in merged_results[\"neighborhoods\"]:\n",
    "    hood_name = entry[\"name\"]\n",
    "    entry[\"bikelane_length\"] = bikelane_lengths[hood_name]"
   ]
  },
  {
   "cell_type": "markdown",
   "id": "aa433eb1",
   "metadata": {},
   "source": [
    "#### Scoring\n",
    "After gathering the data for each metric, we wrote code to normalize the values. We then assigned weights for each attribute in order to adjust metrics to hold more importance. Using the weighted normalized metrics we added them up to create a composite score for each neighborhood."
   ]
  },
  {
   "cell_type": "code",
   "execution_count": null,
   "id": "d67c6bbb",
   "metadata": {},
   "outputs": [],
   "source": [
    "# Normalize the data\n",
    "max_parks = max(neighborhood['parks'] for neighborhood in neighborhoods)\n",
    "max_prt_stops = max(neighborhood['prt-stops'] for neighborhood in neighborhoods)\n",
    "max_bikelane_length = max(neighborhood['bikelane_length'] for neighborhood in neighborhoods)\n",
    "\n",
    "\n",
    "\n",
    "for neighborhood in neighborhoods:\n",
    "    neighborhood['parks_normalized'] = neighborhood['parks'] / max_parks\n",
    "    neighborhood['prt_stops_normalized'] = neighborhood['prt-stops'] / max_prt_stops\n",
    "    neighborhood['bikelane_length_normalized'] = neighborhood['bikelane_length'] / max_bikelane_length\n",
    "\n",
    "# Assign weights (you can adjust these according to your preference)\n",
    "weights = {\n",
    "    'parks': .3,\n",
    "    'prt_stops': .4,\n",
    "    'bikelane_length': 0.3\n",
    "}\n",
    "\n",
    "# Calculate composite score\n",
    "for neighborhood in neighborhoods:\n",
    "    neighborhood['composite_score'] = (\n",
    "        weights['parks'] * neighborhood['parks_normalized'] +\n",
    "        weights['prt_stops'] * neighborhood['prt_stops_normalized'] +\n",
    "        weights['bikelane_length'] * neighborhood['bikelane_length_normalized']\n",
    "    )"
   ]
  },
  {
   "cell_type": "markdown",
   "id": "f7b04dd5",
   "metadata": {},
   "source": [
    "At this point we have organized and computed this data for each neighborhood:"
   ]
  },
  {
   "cell_type": "code",
   "execution_count": null,
   "id": "b2ee2050",
   "metadata": {},
   "outputs": [],
   "source": [
    "\"name\": \"Beechview\",\n",
    "\"parks\": 8,\n",
    "\"prt-stops\": 31,\n",
    "\"bikelane_length\": 0.0,\n",
    "\"parks_normalized\": 0.6666666666666666,\n",
    "\"prt_stops_normalized\": 0.2980769230769231,\n",
    "\"bikelane_length_normalized\": 0.0,\n",
    "\"composite_score\": 0.9647435897435896"
   ]
  },
  {
   "cell_type": "markdown",
   "id": "0df807db",
   "metadata": {},
   "source": [
    "#### Visualization\n",
    "We wrote some code to generate bar graphs for our data using matplotlib:\n",
    "\n"
   ]
  },
  {
   "cell_type": "markdown",
   "id": "b481597d",
   "metadata": {},
   "source": [
    "![Bus Stops Bar Graph](bus-stops.png)\n"
   ]
  },
  {
   "cell_type": "markdown",
   "id": "4afe4d06",
   "metadata": {},
   "source": [
    "![Parks Bar Graph](parks.png)\n"
   ]
  },
  {
   "cell_type": "markdown",
   "id": "14753130",
   "metadata": {},
   "source": [
    "Jack spent a little time figuring out how to create an interactive heat map for each normalized score. (map demo)"
   ]
  },
  {
   "cell_type": "markdown",
   "id": "a44c7e5d",
   "metadata": {},
   "source": [
    "#### Final Result\n",
    "The rest was simply finding the maximum composite score. We wrote this code to do so:"
   ]
  },
  {
   "cell_type": "code",
   "execution_count": 9,
   "id": "e0c244f2",
   "metadata": {},
   "outputs": [
    {
     "name": "stdout",
     "output_type": "stream",
     "text": [
      "Best neighborhood: Squirrel Hill South\n",
      "Composite score: 0.7519230769230769\n",
      "Parks:  7\n",
      "Bus Stops:  72\n",
      "Bike Lane Length:  0.07548481379752006\n"
     ]
    }
   ],
   "source": [
    "import json\n",
    "\n",
    "#Load JSON\n",
    "with open('../composite_scores.json', 'r') as file:\n",
    "    neighborhoods = json.load(file)\n",
    "\n",
    "# Find the best neighborhood\n",
    "best_neighborhood = max(neighborhoods, key=lambda x: x['composite_score'])\n",
    "\n",
    "print(\"Best neighborhood:\", best_neighborhood['name'])\n",
    "print(\"Composite score:\", best_neighborhood['composite_score'])\n",
    "print('Parks: ', best_neighborhood['parks'])\n",
    "print('Bus Stops: ', best_neighborhood['prt-stops'])\n",
    "print('Bike Lane Length: ', round(best_neighborhood['bikelane_length']))"
   ]
  },
  {
   "cell_type": "markdown",
   "id": "0909378a",
   "metadata": {},
   "source": [
    "By our metrics the best neighborhood in Pittsburgh is Squirrel Hill S"
   ]
  }
 ],
 "metadata": {
  "kernelspec": {
   "display_name": "Python 3",
   "language": "python",
   "name": "python3"
  },
  "language_info": {
   "codemirror_mode": {
    "name": "ipython",
    "version": 3
   },
   "file_extension": ".py",
   "mimetype": "text/x-python",
   "name": "python",
   "nbconvert_exporter": "python",
   "pygments_lexer": "ipython3",
   "version": "3.11.4"
  }
 },
 "nbformat": 4,
 "nbformat_minor": 5
}
