{
 "cells": [
  {
   "cell_type": "markdown",
   "metadata": {},
   "source": [
    "### Initializing a Dictionary: \n",
    "\n",
    "First I initialized an empty dictionary named bikelane_lengths. This dictionary is intended to store the length of bike lanes within each neighborhood. The keys of this dictionary are neighborhood names (hood_name), obtained from data retrieved from the neighborhood datasets."
   ]
  },
  {
   "cell_type": "code",
   "execution_count": null,
   "metadata": {},
   "outputs": [],
   "source": [
    "# Load GeoJSON data for bikelanes\n",
    "with open('data/2019-bike-lanes.geojson') as f:\n",
    "    bikelanes_data = json.load(f)\n",
    "\n",
    "# Initialize a dictionary to store lane lengths\n",
    "bikelane_lengths = {hood_name: 0.0 for hood_name in hoods}"
   ]
  },
  {
   "cell_type": "markdown",
   "metadata": {},
   "source": [
    "### Calculating Lengths\n",
    "After the dictionary was created to store the length data, I created a loop to iterate through the bike lane features from our bike lane dataset. For each neighborhood I used the shapely.intersects() method to determine if the bike lane intersects (overlaps) the neighborhood. If it did, I used the shapely.intersection() method to get the LineString or MultiLineString object that stores the part of the bike lane that overlaps the neighborhood. The LineString objects has a length property which I then add to the existing length sum."
   ]
  },
  {
   "cell_type": "code",
   "execution_count": null,
   "metadata": {},
   "outputs": [],
   "source": [
    "# Iterate over each bike lane feature\n",
    "for feature in bikelanes_data['features']:\n",
    "    bikelane_geometry = shape(feature['geometry'])\n",
    "    # Iterate through each neighborhood\n",
    "    for hood_name, polygon in zip(hoods, polygons):\n",
    "        # Check if the bike lane intersects with the neighborhood polygon\n",
    "        if bikelane_geometry.intersects(polygon):\n",
    "            # Calculate the length of the intersection\n",
    "            intersection = bikelane_geometry.intersection(polygon)\n",
    "            bikelane_lengths[hood_name] += intersection.length"
   ]
  },
  {
   "cell_type": "markdown",
   "metadata": {},
   "source": [
    "The length property of LineString objects in Shapely measures the distance along the lines, just like measuring a string with a ruler. The scale of this length is based on the coordinate system used. However, this measurement is like a straight line drawn between points and doesn't consider the Earth's round shape for geographic data, therefore it is not useful for us to conceptualize."
   ]
  },
  {
   "cell_type": "markdown",
   "metadata": {},
   "source": [
    "### Compiling for Writing\n",
    "After the calculations were made, I wrote code to add it into the dictionary holding all the data for it to be written to a json file."
   ]
  },
  {
   "cell_type": "code",
   "execution_count": null,
   "metadata": {},
   "outputs": [],
   "source": [
    "# Update merged_results with bike lane lengths\n",
    "for entry in merged_results[\"neighborhoods\"]:\n",
    "    hood_name = entry[\"name\"]\n",
    "    entry[\"bikelane_length\"] = bikelane_lengths[hood_name]"
   ]
  },
  {
   "cell_type": "markdown",
   "metadata": {},
   "source": [
    "### Normalizing Values and Creating a Single Metric Score\n",
    "I created code to min-max normalize each score which would give us values between 0 and 1 for each score. This will allow us to create a composite score comprized of the sum of all three normalized metrics."
   ]
  },
  {
   "cell_type": "code",
   "execution_count": null,
   "metadata": {},
   "outputs": [],
   "source": [
    "# Normalize the data\n",
    "max_parks = max(neighborhood['parks'] for neighborhood in neighborhoods)\n",
    "max_prt_stops = max(neighborhood['prt-stops'] for neighborhood in neighborhoods)\n",
    "max_bikelane_length = max(neighborhood['bikelane_length'] for neighborhood in neighborhoods)\n",
    "\n",
    "for neighborhood in neighborhoods:\n",
    "    neighborhood['parks_normalized'] = neighborhood['parks'] / max_parks\n",
    "    neighborhood['prt_stops_normalized'] = neighborhood['prt-stops'] / max_prt_stops\n",
    "    neighborhood['bikelane_length_normalized'] = neighborhood['bikelane_length'] / max_bikelane_length\n"
   ]
  },
  {
   "cell_type": "markdown",
   "metadata": {},
   "source": [
    "### Weighting the Scores\n",
    "I also created code to weight each score to assign more or less importance on individual metrics. These were the values we settled on.\n",
    "\n",
    "- Parks: 30%\n",
    "- Bus Stops: 40%\n",
    "- Bike Lane Length: 30%"
   ]
  },
  {
   "cell_type": "code",
   "execution_count": null,
   "metadata": {},
   "outputs": [],
   "source": [
    "# Assign weights \n",
    "weights = {\n",
    "    'parks': .3,\n",
    "    'prt_stops': .4,\n",
    "    'bikelane_length': 0.3\n",
    "}\n",
    "\n",
    "# Calculate composite score\n",
    "for neighborhood in neighborhoods:\n",
    "    neighborhood['composite_score'] = (\n",
    "        weights['parks'] * neighborhood['parks_normalized'] +\n",
    "        weights['prt_stops'] * neighborhood['prt_stops_normalized'] +\n",
    "        weights['bikelane_length'] * neighborhood['bikelane_length_normalized']\n",
    "    )"
   ]
  },
  {
   "cell_type": "markdown",
   "metadata": {},
   "source": [
    "### Conclusion\n",
    "The data-driven determination for best neighborhood being Squirrel Hill South is different from my personal best neighborhood pick. I would say Shadyside is the best neighborhood. I live in Shadyside currently and love that its close to many other neighborhoods, has many grocery stores and shops, and lots of trees. It also has a relatively large amount of bike lanes. I think that Pittsburgh's topography makes it prone to having many small neighborhoods as land features make up many of the borders between them. The result is that by living in one neighborhood, you can easily reap the benefits of the others because you are so close. All that being said, the top 2 neighborhoods based on our data was Squirrel Hill South and East Liberty, which are both neighborhoods with lots of amenities and have a large population. Although I don't think these are the best neighborhoods personally, they would be great to live in."
   ]
  }
 ],
 "metadata": {
  "language_info": {
   "name": "python"
  }
 },
 "nbformat": 4,
 "nbformat_minor": 2
}
