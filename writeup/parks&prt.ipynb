{
 "cells": [
  {
   "cell_type": "markdown",
   "metadata": {},
   "source": [
    "## Parks\n"
   ]
  },
  {
   "cell_type": "markdown",
   "metadata": {},
   "source": [
    "Gather neighborhood data to pinpoint which neighborhoods the parks are in"
   ]
  },
  {
   "cell_type": "code",
   "execution_count": null,
   "metadata": {},
   "outputs": [],
   "source": [
    "import json\n",
    "import geojson\n",
    "from shapely.geometry import shape, Point\n",
    "\n",
    "# Load GeoJSON data for neighborhoods\n",
    "with open('neighborhoods.geojson') as f:\n",
    "    geojson_data = json.load(f)\n",
    "\n",
    "# Extract neighborhood polygons\n",
    "polygons = []\n",
    "hoods = []\n",
    "for feature in geojson_data['features']:\n",
    "    polygon = shape(feature['geometry'])\n",
    "    polygons.append(polygon)\n",
    "    hoods.append(feature['properties']['hood'])\n",
    "\n",
    "# Define a function to check if a point is within any polygon\n",
    "def is_point_within_polygon(lat, lon):\n",
    "    point = Point(lon, lat)\n",
    "    for i, polygon in enumerate(polygons):\n",
    "        if polygon.contains(point):\n",
    "            return hoods[i]\n",
    "    return None"
   ]
  },
  {
   "cell_type": "markdown",
   "metadata": {},
   "source": [
    "## Import the Parks csv"
   ]
  },
  {
   "cell_type": "code",
   "execution_count": null,
   "metadata": {},
   "outputs": [],
   "source": [
    "# Read the CSV file containing latitude and longitude for parks\n",
    "parks_data = []\n",
    "with open('data\\city-parks.csv', 'r') as file:\n",
    "    next(file)  # Skip header\n",
    "    for line in file:\n",
    "        parts = line.strip().split(',')\n",
    "        lat, lon = map(float, parts[-2:])\n",
    "        parks_data.append((lat, lon))"
   ]
  },
  {
   "cell_type": "markdown",
   "metadata": {},
   "source": [
    "## Count Each Park\n"
   ]
  },
  {
   "cell_type": "markdown",
   "metadata": {},
   "source": [
    "Every time that a park is found within the latitude and longitude of the neighborhood (from the neighborhoods dataset) we add one point to the parks entry in the neighborhood dictionary."
   ]
  },
  {
   "cell_type": "code",
   "execution_count": null,
   "metadata": {},
   "outputs": [],
   "source": [
    "# Create a dictionary to store parks count\n",
    "parks_results = {\"neighborhoods\": []}\n",
    "\n",
    "# Iterate through each park point\n",
    "for lat, lon in parks_data:\n",
    "    hood = is_point_within_polygon(lat, lon)\n",
    "    if hood is not None:\n",
    "        found = False\n",
    "        for entry in parks_results[\"neighborhoods\"]:\n",
    "            if entry[\"name\"] == hood:\n",
    "                entry[\"parks\"] += 1\n",
    "                found = True\n",
    "                break\n",
    "        if not found:\n",
    "            parks_results[\"neighborhoods\"].append({\"name\": hood, \"parks\": 1})"
   ]
  },
  {
   "cell_type": "markdown",
   "metadata": {},
   "source": [
    "## Bus Stops "
   ]
  },
  {
   "cell_type": "markdown",
   "metadata": {},
   "source": [
    "For the bus stops, we had to convert the data from GeoJson to csv to make it easier to iterate through."
   ]
  },
  {
   "cell_type": "code",
   "execution_count": null,
   "metadata": {},
   "outputs": [],
   "source": [
    "import json\n",
    "import csv\n",
    "\n",
    "# Load GeoJSON data\n",
    "with open('data\\prt-stops.geojson', 'r') as f:\n",
    "    data = json.load(f)\n",
    "\n",
    "# Extract necessary information\n",
    "rows = []\n",
    "for index, feature in enumerate(data['features']):\n",
    "    latitude = feature['properties']['Latitude']\n",
    "    longitude = feature['properties']['Longitude']\n",
    "    rows.append([index, latitude, longitude])\n",
    "\n",
    "# Write to CSV\n",
    "with open('output.csv', 'w', newline='') as csvfile:\n",
    "    writer = csv.writer(csvfile)\n",
    "    writer.writerow(['Index', 'Latitude', 'Longitude'])\n",
    "    writer.writerows(rows)\n",
    "\n",
    "print(\"CSV file created successfully.\")"
   ]
  },
  {
   "cell_type": "markdown",
   "metadata": {},
   "source": [
    "## Counting Bus stops"
   ]
  },
  {
   "cell_type": "markdown",
   "metadata": {},
   "source": [
    "From here, it is the exact same process as gathering the data from the parks csv"
   ]
  },
  {
   "cell_type": "code",
   "execution_count": null,
   "metadata": {},
   "outputs": [],
   "source": [
    "# Read the CSV file containing latitude and longitude for prt-stops\n",
    "prt_stops_data = []\n",
    "with open('data\\prt-stops.csv', 'r') as file:\n",
    "    next(file)  # Skip header\n",
    "    for line in file:\n",
    "        parts = line.strip().split(',')\n",
    "        lat, lon = map(float, parts[-2:])\n",
    "        prt_stops_data.append((lat, lon))\n",
    "\n",
    "# Create a dictionary to store prt-stops count\n",
    "prt_stops_results = {\"neighborhoods\": []}\n",
    "\n",
    "# Iterate through each prt-stop point\n",
    "for lat, lon in prt_stops_data:\n",
    "    hood = is_point_within_polygon(lat, lon)\n",
    "    if hood is not None:\n",
    "        found = False\n",
    "        for entry in prt_stops_results[\"neighborhoods\"]:\n",
    "            if entry[\"name\"] == hood:\n",
    "                entry[\"prt-stops\"] += 1\n",
    "                found = True\n",
    "                break\n",
    "        if not found:\n",
    "            prt_stops_results[\"neighborhoods\"].append({\"name\": hood, \"prt-stops\": 1})"
   ]
  }
 ],
 "metadata": {
  "language_info": {
   "name": "python"
  }
 },
 "nbformat": 4,
 "nbformat_minor": 2
}
